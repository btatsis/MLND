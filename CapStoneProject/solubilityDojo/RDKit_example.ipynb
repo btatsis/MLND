{
 "cells": [
  {
   "cell_type": "code",
   "execution_count": 2,
   "metadata": {},
   "outputs": [
    {
     "name": "stdout",
     "output_type": "stream",
     "text": [
      "[array([0., 0., 0., ..., 0., 0., 0.]), array([0., 0., 0., ..., 0., 0., 0.]), array([0., 0., 0., ..., 0., 0., 0.]), array([0., 0., 0., ..., 0., 0., 0.])]\n",
      "[1]\n",
      "[[0.2 0.8]]\n"
     ]
    }
   ],
   "source": [
    "from rdkit import Chem, DataStructs\n",
    "from rdkit.Chem import AllChem\n",
    "from sklearn.ensemble import RandomForestClassifier\n",
    "import numpy\n",
    "\n",
    "# generate four molecules\n",
    "m1 = Chem.MolFromSmiles('c1ccccc1')\n",
    "m2 = Chem.MolFromSmiles('c1ccccc1CC')\n",
    "m3 = Chem.MolFromSmiles('c1ccncc1')\n",
    "m4 = Chem.MolFromSmiles('c1ccncc1CC')\n",
    "mols = [m1, m2, m3, m4]\n",
    "\n",
    "# generate fingeprints: Morgan fingerprint with radius 2\n",
    "fps = [AllChem.GetMorganFingerprintAsBitVect(m, 2) for m in mols]\n",
    "\n",
    "# convert the RDKit explicit vectors into numpy arrays\n",
    "np_fps = []\n",
    "for fp in fps:\n",
    "  arr = numpy.zeros((1,))\n",
    "  DataStructs.ConvertToNumpyArray(fp, arr)\n",
    "  np_fps.append(arr)\n",
    "\n",
    "print (np_fps)\n",
    "# get a random forest classifiert with 100 trees\n",
    "rf = RandomForestClassifier(n_estimators=100, random_state=1123)\n",
    "\n",
    "# train the random forest\n",
    "# with the first two molecules being actives (class 1) and\n",
    "# the last two being inactives (class 0)\n",
    "ys_fit = [1, 1, 0, 0]\n",
    "rf.fit(np_fps, ys_fit)\n",
    "\n",
    "# use the random forest to predict a new molecule\n",
    "m5 = Chem.MolFromSmiles('c1ccccc1O')\n",
    "fp = numpy.zeros((1,))\n",
    "DataStructs.ConvertToNumpyArray(AllChem.GetMorganFingerprintAsBitVect(m5, 2), fp)\n",
    "\n",
    "print(rf.predict((fp,)))\n",
    "print(rf.predict_proba((fp,)))"
   ]
  },
  {
   "cell_type": "code",
   "execution_count": null,
   "metadata": {},
   "outputs": [],
   "source": []
  }
 ],
 "metadata": {
  "kernelspec": {
   "display_name": "Python 3",
   "language": "python",
   "name": "python3"
  },
  "language_info": {
   "codemirror_mode": {
    "name": "ipython",
    "version": 3
   },
   "file_extension": ".py",
   "mimetype": "text/x-python",
   "name": "python",
   "nbconvert_exporter": "python",
   "pygments_lexer": "ipython3",
   "version": "3.6.5"
  }
 },
 "nbformat": 4,
 "nbformat_minor": 2
}
