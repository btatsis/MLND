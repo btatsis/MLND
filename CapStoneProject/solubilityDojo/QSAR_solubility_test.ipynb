{
 "cells": [
  {
   "cell_type": "code",
   "execution_count": 4,
   "metadata": {},
   "outputs": [
    {
     "name": "stdout",
     "output_type": "stream",
     "text": [
      "        smiles  solubility  logp\n",
      "0     CCC(C)CC       -3.68  3.21\n",
      "1  CC(C)CC(C)C       -4.26  3.63\n",
      "2       CCCC=C       -2.68  2.66\n",
      "3    C1CC=CCC1       -2.59  2.96\n",
      "4      C=CCC=C       -2.09  2.52\n"
     ]
    }
   ],
   "source": [
    "from rdkit import Chem\n",
    "from rdkit.Chem.EState import Fingerprinter\n",
    "from rdkit.Chem import Descriptors\n",
    "from rdkit.Chem.rdmolops import RDKFingerprint\n",
    "import pandas as pd\n",
    "import numpy as np\n",
    "from sklearn.preprocessing import StandardScaler\n",
    "from sklearn import cross_validation\n",
    "from sklearn import cross_validation\n",
    "from sklearn.ensemble import GradientBoostingRegressor, RandomForestRegressor\n",
    "from sklearn.model_selection import GridSearchCV\n",
    "\n",
    "#Read solubility data\n",
    "testing_data = pd.read_csv('test_huuskonsen.csv')\n",
    "print(testing_data.head())\n",
    "\n",
    "def estate_fingerprint_and_mw(mol):\n",
    "    return np.append(FingerprintMol(mol)[0], Descriptors.MolWt(x))\n",
    "\n",
    "#Add some new columns\n",
    "testing_data['Mol'] = testing_data['smiles'].apply(Chem.MolFromSmiles)\n",
    "num_mols = len(testing_data)\n",
    "\n",
    "#Create X and y\n",
    "#Convert to Numpy arrays\n",
    "y_test = testing_data['solubility'].values"
   ]
  },
  {
   "cell_type": "code",
   "execution_count": 5,
   "metadata": {},
   "outputs": [],
   "source": [
    "from rdkit.Chem.EState.Fingerprinter import FingerprintMol\n",
    "from rdkit.DataStructs.cDataStructs import ConvertToNumpyArray\n",
    "import rdkit.DataStructs.cDataStructs\n",
    "\n",
    "def estate_fingerprint(mol):\n",
    "    return FingerprintMol(mol)[0]\n",
    "\n",
    "#Scale X to unit variance and zero mean\n",
    "testing_data['Fingerprint'] = testing_data['Mol'].apply(estate_fingerprint)\n",
    "\n",
    "X = np.array(list(testing_data['Fingerprint']))\n",
    "\n",
    "st = StandardScaler()\n",
    "X = np.array(list(testing_data['Fingerprint']))\n",
    "X = st.fit_transform(X)"
   ]
  },
  {
   "cell_type": "code",
   "execution_count": 9,
   "metadata": {},
   "outputs": [
    {
     "name": "stdout",
     "output_type": "stream",
     "text": [
      "0.7664220586859278\n",
      "189.2520329292082\n"
     ]
    }
   ],
   "source": [
    "import pickle\n",
    "\n",
    "# load the model from disk\n",
    "model = pickle.load(open('rf_model.pkl', 'r'))\n",
    "\n",
    "y_pred_test  = model.predict(X)\n",
    "\n",
    "percent_error = np.mean( 100*np.abs(y_test -y_pred_test)/np.abs(y_pred_test))\n",
    "result = model.score(X, y_test)\n",
    "print(result)\n",
    "print(percent_error)\n",
    "f.close()"
   ]
  },
  {
   "cell_type": "code",
   "execution_count": null,
   "metadata": {},
   "outputs": [],
   "source": []
  }
 ],
 "metadata": {
  "kernelspec": {
   "display_name": "Python 2",
   "language": "python",
   "name": "python2"
  },
  "language_info": {
   "codemirror_mode": {
    "name": "ipython",
    "version": 2
   },
   "file_extension": ".py",
   "mimetype": "text/x-python",
   "name": "python",
   "nbconvert_exporter": "python",
   "pygments_lexer": "ipython2",
   "version": "2.7.14"
  }
 },
 "nbformat": 4,
 "nbformat_minor": 2
}
